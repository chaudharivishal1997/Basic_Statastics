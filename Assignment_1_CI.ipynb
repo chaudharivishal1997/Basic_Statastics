{
 "cells": [
  {
   "cell_type": "markdown",
   "id": "c0f30f36",
   "metadata": {},
   "source": [
    "### Q.11 Suppose we want to estimate the average weight of an adult male in    Mexico. We draw a random sample of 2,000 men from a population of 3,000,000 men and weigh them. We find that the average person in our sample weighs 200 pounds, and the standard deviation of the sample is 30 pounds. Calculate 94%,98%,96% confidence interval?"
   ]
  },
  {
   "cell_type": "code",
   "execution_count": 1,
   "id": "e76ca4a0",
   "metadata": {},
   "outputs": [],
   "source": [
    "import numpy as np\n",
    "import pandas as pd \n",
    "from scipy import stats\n",
    "import math"
   ]
  },
  {
   "cell_type": "code",
   "execution_count": 2,
   "id": "e4ea9b1a",
   "metadata": {},
   "outputs": [
    {
     "name": "stdout",
     "output_type": "stream",
     "text": [
      "94% Confidence Interval =  [198.7383 201.2617]\n"
     ]
    }
   ],
   "source": [
    "#94% Confidence Interval\n",
    "print('94% Confidence Interval = ',np.round(stats.norm.interval(0.94,200,30/math.sqrt(2000)),4))"
   ]
  },
  {
   "cell_type": "code",
   "execution_count": 3,
   "id": "31cd996f",
   "metadata": {},
   "outputs": [
    {
     "name": "stdout",
     "output_type": "stream",
     "text": [
      "98% Confidence Interval =  [198.4394 201.5606]\n"
     ]
    }
   ],
   "source": [
    "#98% Confidence Interval\n",
    "print('98% Confidence Interval = ',np.round(stats.norm.interval(0.98,200,30/math.sqrt(2000)),4))"
   ]
  },
  {
   "cell_type": "code",
   "execution_count": 4,
   "id": "f36eb44c",
   "metadata": {},
   "outputs": [
    {
     "name": "stdout",
     "output_type": "stream",
     "text": [
      "96% Confidence Interval =  [198.6223 201.3777]\n"
     ]
    }
   ],
   "source": [
    "#96% Confidence Interval\n",
    "print('96% Confidence Interval = ',np.round(stats.norm.interval(0.96,200,30/math.sqrt(2000)),4))"
   ]
  }
 ],
 "metadata": {
  "kernelspec": {
   "display_name": "Python 3",
   "language": "python",
   "name": "python3"
  },
  "language_info": {
   "codemirror_mode": {
    "name": "ipython",
    "version": 3
   },
   "file_extension": ".py",
   "mimetype": "text/x-python",
   "name": "python",
   "nbconvert_exporter": "python",
   "pygments_lexer": "ipython3",
   "version": "3.8.8"
  }
 },
 "nbformat": 4,
 "nbformat_minor": 5
}
