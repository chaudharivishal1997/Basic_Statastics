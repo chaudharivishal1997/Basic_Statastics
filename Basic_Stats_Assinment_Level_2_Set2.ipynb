{
 "cells": [
  {
   "cell_type": "markdown",
   "id": "73dd0f49",
   "metadata": {},
   "source": [
    "### Q.1 The time required for servicing transmissions is normally distributed with mu = 45 minutes and sigma = 8 minutes. The service manager plans to have work begin on the transmission of a customer’s car 10 minutes after the car is dropped off and the customer is told that the car will be ready within 1 hour from drop-off. What is the probability that the service manager cannot meet his commitment? "
   ]
  },
  {
   "cell_type": "code",
   "execution_count": 1,
   "id": "9f363525",
   "metadata": {},
   "outputs": [],
   "source": [
    "import pandas as pd\n",
    "import numpy as np\n",
    "import scipy\n",
    "from scipy import stats"
   ]
  },
  {
   "cell_type": "code",
   "execution_count": 2,
   "id": "cac9ae68",
   "metadata": {},
   "outputs": [
    {
     "name": "stdout",
     "output_type": "stream",
     "text": [
      "Probability that the Service Manager will not meet his commitment 0.26599\n"
     ]
    }
   ],
   "source": [
    "z=(50-45)/8\n",
    "print('Probability that the Service Manager will not meet his commitment',np.round(1-stats.norm.cdf(z),5))"
   ]
  },
  {
   "cell_type": "markdown",
   "id": "3755f8a5",
   "metadata": {},
   "source": [
    "### Q.2 The current age (in years) of 400 clerical employees at an insurance claims processing center is normally distributed with mean mu = 38 and Standard deviation sigma =6. For each statement below, please specify True/False. If false, briefly explain why. \n",
    "### A.More employees at the processing center are older than 44 than between 38 and 44.\n",
    "### B.\tA training program for employees under the age of 30 at the center would be expected to attract about 36 employees."
   ]
  },
  {
   "cell_type": "code",
   "execution_count": 3,
   "id": "e4d35dd4",
   "metadata": {},
   "outputs": [
    {
     "name": "stdout",
     "output_type": "stream",
     "text": [
      "Given statement is false\n"
     ]
    }
   ],
   "source": [
    "#We'll find probability of employees having age greater than 44\n",
    "z_score1=(44-38)/6\n",
    "p1=1-stats.norm.cdf(z_score1)\n",
    "#We'll now find probability of employees having age between 38 - 44\n",
    "z_score2=(38-38)/6\n",
    "p2=1-(p1+(1-stats.norm.cdf(z_score2)))\n",
    "if p1>p2:\n",
    "    print('Given statement is true')\n",
    "else:\n",
    "    print('Given statement is false')"
   ]
  },
  {
   "cell_type": "code",
   "execution_count": 4,
   "id": "17ca9439",
   "metadata": {},
   "outputs": [
    {
     "name": "stdout",
     "output_type": "stream",
     "text": [
      "Given statement is true\n"
     ]
    }
   ],
   "source": [
    "#We'll find probability of employees having age under 30\n",
    "z_score3=(30-38)/6\n",
    "p3=1-stats.norm.cdf(np.abs(z_score3))\n",
    "#To find number of employees under age of 30\n",
    "N=np.round(((400*p3)/100)*100)\n",
    "if N==36:\n",
    "    print('Given statement is true')\n",
    "else:\n",
    "    print('Given statement is false')"
   ]
  },
  {
   "cell_type": "markdown",
   "id": "1225cd38",
   "metadata": {},
   "source": [
    "### Q.4\tLet X ~ N(100, 20^2). Find two values, a and b, symmetric about the mean, such that the probability of the random variable taking a value between them is 0.99. "
   ]
  },
  {
   "cell_type": "code",
   "execution_count": 5,
   "id": "e17081d9",
   "metadata": {},
   "outputs": [],
   "source": [
    "#Given That\n",
    "μ=100\n",
    "σ=20\n",
    "#Z value at 0.1 percentile\n",
    "z1=stats.norm.ppf(0.005)\n",
    "#Z value at 0.99 percentile\n",
    "z2=stats.norm.ppf(0.995)"
   ]
  },
  {
   "cell_type": "code",
   "execution_count": 6,
   "id": "7f6e43b5",
   "metadata": {},
   "outputs": [
    {
     "name": "stdout",
     "output_type": "stream",
     "text": [
      "a =  48.483413929021985\n",
      "b =  151.516586070978\n"
     ]
    }
   ],
   "source": [
    "#We know z=(x-μ)/σ, hence, x=z*σ+μ\n",
    "a=z1*20+100\n",
    "b=z2*20+100\n",
    "print('a = ',a) \n",
    "print('b = ',b)"
   ]
  },
  {
   "cell_type": "markdown",
   "id": "03226b0e",
   "metadata": {},
   "source": [
    "### Q.5\tConsider a company that has two different divisions. The annual profits from the two divisions are independent and have distributions Profit1 ~ N(5, 3^2) and Profit2 ~ N(7, 4^2) respectively. Both the profits are in Million Dollor. Answer the following questions about the total profit of the company in Rupees. Assume that 1Dollor = Rs. 45\n",
    "### A.\tSpecify a Rupee range (centered on the mean) such that it contains 95% probability for the annual profit of the company.\n",
    "### B.\tSpecify the 5th percentile of profit (in Rupees) for the company\n",
    "### C.\tWhich of the two divisions has a larger probability of making a loss in a given year?"
   ]
  },
  {
   "cell_type": "code",
   "execution_count": 7,
   "id": "5bd94951",
   "metadata": {},
   "outputs": [
    {
     "name": "stdout",
     "output_type": "stream",
     "text": [
      "Mean profit in Rupees is  540  Millions\n",
      "Standard Deviation in Rupees is  225.0  Millions\n"
     ]
    }
   ],
   "source": [
    "#Mean profit from different divisions of a company\n",
    "Mean = 5+7\n",
    "print('Mean profit in Rupees is ',Mean*45,' Millions')\n",
    "#Variance of profits from different divisions of a company=SD**2=SD1**2+SD2**2\n",
    "SD=np.sqrt((9)+(16))\n",
    "print('Standard Deviation in Rupees is ',SD*45,' Millions')"
   ]
  },
  {
   "cell_type": "code",
   "execution_count": 8,
   "id": "a2882132",
   "metadata": {},
   "outputs": [
    {
     "name": "stdout",
     "output_type": "stream",
     "text": [
      "Range is  (99.00810347848784, 980.9918965215122) Millions\n"
     ]
    }
   ],
   "source": [
    "# A. To specify a rupee range such that it contains 95% probability for annual profit of company\n",
    "print('Range is ',stats.norm.interval(0.95,540,225),'Millions')"
   ]
  },
  {
   "cell_type": "code",
   "execution_count": 9,
   "id": "d9502d75",
   "metadata": {},
   "outputs": [
    {
     "name": "stdout",
     "output_type": "stream",
     "text": [
      "5th Percentile of profit in Rupees is  170.0  Millions\n"
     ]
    }
   ],
   "source": [
    "# B. To specify 5th percentile of profit, we'll use x = z*σ + μ\n",
    "# Calculating z for 5th percentile\n",
    "z5=stats.norm.ppf(0.05)\n",
    "print('5th Percentile of profit in Rupees is ',np.round(z5*225+540),' Millions')"
   ]
  },
  {
   "cell_type": "code",
   "execution_count": 10,
   "id": "6bc1b7ef",
   "metadata": {},
   "outputs": [
    {
     "name": "stdout",
     "output_type": "stream",
     "text": [
      "Division 1 have more probability of making loss than the division 2\n"
     ]
    }
   ],
   "source": [
    "# C. Probability of making loss i.e. P(X<0)\n",
    "#Probability of division 1 making loss\n",
    "Div1=stats.norm.cdf(0,5,3)\n",
    "#Probability of division 2 making loss\n",
    "Div2=stats.norm.cdf(0,7,4)\n",
    "if Div1>Div2:\n",
    "    print('Division 1 have more probability of making loss than the division 2')\n",
    "else:\n",
    "     print('Division 2 have more probability of making loss than the division 1')"
   ]
  },
  {
   "cell_type": "code",
   "execution_count": null,
   "id": "a2b23400",
   "metadata": {},
   "outputs": [],
   "source": []
  }
 ],
 "metadata": {
  "kernelspec": {
   "display_name": "Python 3",
   "language": "python",
   "name": "python3"
  },
  "language_info": {
   "codemirror_mode": {
    "name": "ipython",
    "version": 3
   },
   "file_extension": ".py",
   "mimetype": "text/x-python",
   "name": "python",
   "nbconvert_exporter": "python",
   "pygments_lexer": "ipython3",
   "version": "3.8.8"
  }
 },
 "nbformat": 4,
 "nbformat_minor": 5
}
